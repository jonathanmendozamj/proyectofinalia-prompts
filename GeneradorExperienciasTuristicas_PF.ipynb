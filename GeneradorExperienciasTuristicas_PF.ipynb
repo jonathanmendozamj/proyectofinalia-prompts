{
 "cells": [
  {
   "cell_type": "code",
   "execution_count": 1,
   "metadata": {},
   "outputs": [],
   "source": [
    "# Instalo las dependencias. Uso la versión 3.13.4 de Python y el modelo gemini-1.5-flash\n",
    "# pip install google-generativeai y pip install python-dotenv para las variables de entorno"
   ]
  },
  {
   "cell_type": "code",
   "execution_count": 2,
   "metadata": {},
   "outputs": [
    {
     "name": "stdout",
     "output_type": "stream",
     "text": [
      "Requirement already satisfied: python-dotenv in c:\\users\\jonathan\\miniconda3\\lib\\site-packages (1.1.0)\n",
      "Note: you may need to restart the kernel to use updated packages.\n"
     ]
    }
   ],
   "source": [
    "pip install python-dotenv"
   ]
  },
  {
   "cell_type": "code",
   "execution_count": 3,
   "metadata": {},
   "outputs": [
    {
     "name": "stdout",
     "output_type": "stream",
     "text": [
      "Requirement already satisfied: google-generativeai in c:\\users\\jonathan\\miniconda3\\lib\\site-packages (0.8.5)\n",
      "Requirement already satisfied: google-ai-generativelanguage==0.6.15 in c:\\users\\jonathan\\miniconda3\\lib\\site-packages (from google-generativeai) (0.6.15)\n",
      "Requirement already satisfied: google-api-core in c:\\users\\jonathan\\miniconda3\\lib\\site-packages (from google-generativeai) (2.25.0)\n",
      "Requirement already satisfied: google-api-python-client in c:\\users\\jonathan\\miniconda3\\lib\\site-packages (from google-generativeai) (2.171.0)\n",
      "Requirement already satisfied: google-auth>=2.15.0 in c:\\users\\jonathan\\miniconda3\\lib\\site-packages (from google-generativeai) (2.40.3)\n",
      "Requirement already satisfied: protobuf in c:\\users\\jonathan\\miniconda3\\lib\\site-packages (from google-generativeai) (5.29.5)\n",
      "Requirement already satisfied: pydantic in c:\\users\\jonathan\\miniconda3\\lib\\site-packages (from google-generativeai) (2.10.3)\n",
      "Requirement already satisfied: tqdm in c:\\users\\jonathan\\miniconda3\\lib\\site-packages (from google-generativeai) (4.67.1)\n",
      "Requirement already satisfied: typing-extensions in c:\\users\\jonathan\\miniconda3\\lib\\site-packages (from google-generativeai) (4.12.2)\n",
      "Requirement already satisfied: proto-plus<2.0.0dev,>=1.22.3 in c:\\users\\jonathan\\miniconda3\\lib\\site-packages (from google-ai-generativelanguage==0.6.15->google-generativeai) (1.26.1)\n",
      "Requirement already satisfied: googleapis-common-protos<2.0.0,>=1.56.2 in c:\\users\\jonathan\\miniconda3\\lib\\site-packages (from google-api-core->google-generativeai) (1.70.0)\n",
      "Requirement already satisfied: requests<3.0.0,>=2.18.0 in c:\\users\\jonathan\\miniconda3\\lib\\site-packages (from google-api-core->google-generativeai) (2.32.3)\n",
      "Requirement already satisfied: cachetools<6.0,>=2.0.0 in c:\\users\\jonathan\\miniconda3\\lib\\site-packages (from google-auth>=2.15.0->google-generativeai) (5.5.2)\n",
      "Requirement already satisfied: pyasn1-modules>=0.2.1 in c:\\users\\jonathan\\miniconda3\\lib\\site-packages (from google-auth>=2.15.0->google-generativeai) (0.4.2)\n",
      "Requirement already satisfied: rsa<5,>=3.1.4 in c:\\users\\jonathan\\miniconda3\\lib\\site-packages (from google-auth>=2.15.0->google-generativeai) (4.9.1)\n",
      "Requirement already satisfied: httplib2<1.0.0,>=0.19.0 in c:\\users\\jonathan\\miniconda3\\lib\\site-packages (from google-api-python-client->google-generativeai) (0.22.0)\n",
      "Requirement already satisfied: google-auth-httplib2<1.0.0,>=0.2.0 in c:\\users\\jonathan\\miniconda3\\lib\\site-packages (from google-api-python-client->google-generativeai) (0.2.0)\n",
      "Requirement already satisfied: uritemplate<5,>=3.0.1 in c:\\users\\jonathan\\miniconda3\\lib\\site-packages (from google-api-python-client->google-generativeai) (4.2.0)\n",
      "Requirement already satisfied: annotated-types>=0.6.0 in c:\\users\\jonathan\\miniconda3\\lib\\site-packages (from pydantic->google-generativeai) (0.6.0)\n",
      "Requirement already satisfied: pydantic-core==2.27.1 in c:\\users\\jonathan\\miniconda3\\lib\\site-packages (from pydantic->google-generativeai) (2.27.1)\n",
      "Requirement already satisfied: colorama in c:\\users\\jonathan\\miniconda3\\lib\\site-packages (from tqdm->google-generativeai) (0.4.6)\n",
      "Requirement already satisfied: grpcio<2.0.0,>=1.33.2 in c:\\users\\jonathan\\miniconda3\\lib\\site-packages (from google-api-core[grpc]!=2.0.*,!=2.1.*,!=2.10.*,!=2.2.*,!=2.3.*,!=2.4.*,!=2.5.*,!=2.6.*,!=2.7.*,!=2.8.*,!=2.9.*,<3.0.0dev,>=1.34.1->google-ai-generativelanguage==0.6.15->google-generativeai) (1.73.0)\n",
      "Requirement already satisfied: grpcio-status<2.0.0,>=1.33.2 in c:\\users\\jonathan\\miniconda3\\lib\\site-packages (from google-api-core[grpc]!=2.0.*,!=2.1.*,!=2.10.*,!=2.2.*,!=2.3.*,!=2.4.*,!=2.5.*,!=2.6.*,!=2.7.*,!=2.8.*,!=2.9.*,<3.0.0dev,>=1.34.1->google-ai-generativelanguage==0.6.15->google-generativeai) (1.71.0)\n",
      "Requirement already satisfied: pyparsing!=3.0.0,!=3.0.1,!=3.0.2,!=3.0.3,<4,>=2.4.2 in c:\\users\\jonathan\\miniconda3\\lib\\site-packages (from httplib2<1.0.0,>=0.19.0->google-api-python-client->google-generativeai) (3.2.3)\n",
      "Requirement already satisfied: pyasn1<0.7.0,>=0.6.1 in c:\\users\\jonathan\\miniconda3\\lib\\site-packages (from pyasn1-modules>=0.2.1->google-auth>=2.15.0->google-generativeai) (0.6.1)\n",
      "Requirement already satisfied: charset-normalizer<4,>=2 in c:\\users\\jonathan\\miniconda3\\lib\\site-packages (from requests<3.0.0,>=2.18.0->google-api-core->google-generativeai) (3.3.2)\n",
      "Requirement already satisfied: idna<4,>=2.5 in c:\\users\\jonathan\\miniconda3\\lib\\site-packages (from requests<3.0.0,>=2.18.0->google-api-core->google-generativeai) (3.7)\n",
      "Requirement already satisfied: urllib3<3,>=1.21.1 in c:\\users\\jonathan\\miniconda3\\lib\\site-packages (from requests<3.0.0,>=2.18.0->google-api-core->google-generativeai) (2.3.0)\n",
      "Requirement already satisfied: certifi>=2017.4.17 in c:\\users\\jonathan\\miniconda3\\lib\\site-packages (from requests<3.0.0,>=2.18.0->google-api-core->google-generativeai) (2025.4.26)\n"
     ]
    }
   ],
   "source": [
    "!pip install google-generativeai "
   ]
  },
  {
   "cell_type": "code",
   "execution_count": 4,
   "metadata": {},
   "outputs": [],
   "source": [
    "from dotenv import load_dotenv"
   ]
  },
  {
   "cell_type": "code",
   "execution_count": 5,
   "metadata": {},
   "outputs": [],
   "source": [
    "import os"
   ]
  },
  {
   "cell_type": "code",
   "execution_count": 6,
   "metadata": {},
   "outputs": [],
   "source": [
    "import google.generativeai as genai\n",
    "from google.generativeai import types"
   ]
  },
  {
   "cell_type": "code",
   "execution_count": 7,
   "metadata": {},
   "outputs": [
    {
     "data": {
      "text/plain": [
       "True"
      ]
     },
     "execution_count": 7,
     "metadata": {},
     "output_type": "execute_result"
    }
   ],
   "source": [
    "load_dotenv(\"config.env\")"
   ]
  },
  {
   "cell_type": "code",
   "execution_count": 8,
   "metadata": {},
   "outputs": [],
   "source": [
    "# Defino las constantes, tanto de la api key como el modelo de AI usa el modelo gemini-1.5-flash\n",
    "API_KEY_GEMINI = os.getenv('API_KEY_GEMINI')"
   ]
  },
  {
   "cell_type": "code",
   "execution_count": 9,
   "metadata": {},
   "outputs": [],
   "source": [
    "GENERATIVE_MODEL_VERSION = os.getenv('GENERATIVE_MODEL_VERSION')"
   ]
  },
  {
   "cell_type": "code",
   "execution_count": 10,
   "metadata": {},
   "outputs": [],
   "source": [
    "# Configuro con mi clave de API que obtuve de AI Studio\n",
    "genai.configure(api_key=API_KEY_GEMINI)"
   ]
  },
  {
   "cell_type": "code",
   "execution_count": 11,
   "metadata": {},
   "outputs": [],
   "source": [
    "def ask_travel_plans(object_itinerary): \n",
    "\tagent_prompt = \"\"\"\"Actúa como un Agente Planificador de viajes especializado en crear itinerarios turísticos personalizados. Tu tarea es generar un itinerario de viaje detallado en base a las preferencias del usuario, teniendo en cuenta su perfil, intereses, presupuesto y duración del viaje. La información debe presentarse de manera clara y estructurada. Devolveme las respuestas en español.\n",
    "\t\"\"\" \n",
    "\tprompt = object_itinerary.generate_prompt_info() \n",
    "\tspecify_output = f\"A partir de la respuesta obtenida, armame un objeto JSON que incluye el perfil, destino, duración y presupuesto; junto con el itinerario completo en formato de array.\"\n",
    "\tprompt_con_rol = [\n",
    "\t\t{\n",
    "\t\t\t\"role\": \"user\",\n",
    "\t\t\t\"parts\": [agent_prompt]\n",
    "\t\t}, \n",
    "\t\t{\"role\": \"model\", \"parts\": [prompt]}, \n",
    "\t\t{\"role\": \"model\", \"parts\": [specify_output]} \n",
    "\t]\n",
    "\tmodel = genai.GenerativeModel(GENERATIVE_MODEL_VERSION) # Elijo el modelo\n",
    "\tresponse = model.generate_content(prompt_con_rol)\n",
    "\t\n",
    "\tprint(response.text)\n",
    "\t\n",
    "\treturn response.text"
   ]
  },
  {
   "cell_type": "code",
   "execution_count": 21,
   "metadata": {},
   "outputs": [
    {
     "name": "stdout",
     "output_type": "stream",
     "text": [
      "Presupuesto: $5000 dólares por persona - Duración: 10 días - Destino preferencial: Costa Rica\n",
      "\n",
      "## Itinerario de Viaje a Costa Rica: Naturaleza y Aventura (10 días)\n",
      "\n",
      "**Perfil del Viajero:**  Grupo de 3 personas con nivel de actividad física moderado, interesados en la naturaleza, el calor y el senderismo, con un presupuesto de $5000 USD por persona para 10 días en Costa Rica.\n",
      "\n",
      "**Objetivo:** Experiencia inmersiva en la naturaleza costarricense con un equilibrio entre actividades de aventura y momentos de relajación.\n",
      "\n",
      "**Presupuesto estimado:** $15,000 USD total (aprox. $5,000 USD por persona, incluye vuelos, alojamiento, actividades y alimentación, pero excluye gastos personales).\n",
      "\n",
      "\n",
      "**Día 1: Llegada a San José y traslado a Pacuare River Lodge**\n",
      "\n",
      "* Vuelo internacional a San José (SJO).\n",
      "* Traslado privado al Pacuare River Lodge (aprox. 4 horas, incluyendo un viaje en 4x4 y una balsa).  Este lodge eco-amigable ofrece una experiencia única en la selva.\n",
      "* Tarde de relajación y familiarización con el lodge.\n",
      "* Cena en el lodge.\n",
      "\n",
      "\n",
      "**Día 2-3: Aventura en el Río Pacuare**\n",
      "\n",
      "* Dos días de emocionante rafting en el río Pacuare, reconocido por su belleza escénica y su rica biodiversidad.  Incluye guía experimentado, equipo y todas las comidas.\n",
      "* Acampada en la selva, una experiencia inolvidable bajo las estrellas.\n",
      "\n",
      "\n",
      "**Día 4: Traslado a La Fortuna y Arenal Volcano**\n",
      "\n",
      "* Mañana: Desayuno en el lodge y traslado de regreso a San José (aprox. 4 horas)\n",
      "* Tarde: Traslado a La Fortuna (aprox. 2 horas).\n",
      "* Check-in en un hotel con vistas al Volcán Arenal.\n",
      "* Tarde libre para explorar La Fortuna o relajarse en las piscinas termales del hotel.\n",
      "* Cena en un restaurante local con cocina tradicional costarricense.\n",
      "\n",
      "\n",
      "**Día 5: Caminata al Volcán Arenal y Catarata La Fortuna**\n",
      "\n",
      "* Mañana: Caminata guiada por los senderos alrededor del Volcán Arenal, observando la flora y fauna local. (Se recomienda contratar un guía local).\n",
      "* Tarde: Visita a la majestuosa Catarata La Fortuna, con posibilidad de nadar en las piscinas naturales.\n",
      "\n",
      "\n",
      "**Día 6:  Aventura en tirolesa y puentes colgantes**\n",
      "\n",
      "* Mañana: Experiencia en tirolesa a través de la selva tropical, con impresionantes vistas del Volcán Arenal.\n",
      "* Tarde: Recorrido por los puentes colgantes, para una perspectiva única de la exuberante vegetación.\n",
      "\n",
      "\n",
      "**Día 7: Traslado a Manuel Antonio y playa**\n",
      "\n",
      "* Mañana: Traslado a Manuel Antonio (aprox. 3 horas).\n",
      "* Check-in en un hotel cerca de la playa.\n",
      "* Tarde: Relajación en la playa, baño de sol y tiempo libre.\n",
      "* Cena en un restaurante con vista al mar.\n",
      "\n",
      "\n",
      "**Día 8: Parque Nacional Manuel Antonio**\n",
      "\n",
      "* Mañana: Visita al Parque Nacional Manuel Antonio, un paraíso de biodiversidad con playas de arena blanca, exuberante selva y una gran variedad de vida silvestre.  (Se recomienda contratar un guía local para maximizar la experiencia).\n",
      "* Tarde: Disfrute de la playa o actividades acuáticas (opcional, costo adicional).\n",
      "\n",
      "\n",
      "**Día 9:  Regreso a San José y compras**\n",
      "\n",
      "* Mañana:  Tiempo libre en la playa o actividades opcionales.\n",
      "* Tarde: Traslado a San José (aprox. 3 horas).\n",
      "* Check-in en un hotel en San José.\n",
      "* Noche:  Paseo por el centro de San José, compras de souvenirs.\n",
      "\n",
      "\n",
      "**Día 10: Salida**\n",
      "\n",
      "* Mañana: Desayuno en el hotel.\n",
      "* Traslado al Aeropuerto Internacional Juan Santamaría (SJO) para el vuelo de regreso a casa.\n",
      "\n",
      "\n",
      "**Nota:** Este itinerario es una sugerencia y se puede personalizar según las preferencias del grupo. Los precios de alojamiento, actividades y transporte pueden variar según la temporada y la disponibilidad.  Se recomienda reservar vuelos y alojamiento con anticipación, especialmente durante la temporada alta. Se recomienda también contratar un seguro de viaje.\n",
      "\n",
      "**Próximos pasos:**  Para finalizar la planificación, necesito confirmar su disponibilidad en las fechas propuestas y preferencias adicionales para afinar detalles como el tipo de alojamiento (eco-lodges, hoteles de lujo, etc.),  preferencias culinarias y otros detalles importantes.\n",
      "\n"
     ]
    }
   ],
   "source": [
    "ask_travel_plans(3, \"Moderado\", \"Naturaleza, calor\", \"Senderismo\")"
   ]
  },
  {
   "cell_type": "code",
   "execution_count": 12,
   "metadata": {},
   "outputs": [
    {
     "name": "stdin",
     "output_type": "stream",
     "text": [
      "¿Cuántas personas son? 4\n"
     ]
    }
   ],
   "source": [
    "count_people = input(\"¿Cuántas personas son?\")"
   ]
  },
  {
   "cell_type": "code",
   "execution_count": 13,
   "metadata": {},
   "outputs": [
    {
     "name": "stdin",
     "output_type": "stream",
     "text": [
      "¿Viajas solo, en pareja, con amigos o en familia? familia\n",
      "¿Cuál es tu estilo de viaje? (Aventura, relax, cultural, gastronómico, lujo, mochilero, etc.) relax\n"
     ]
    }
   ],
   "source": [
    "type_of_group = input(\"¿Viajas solo, en pareja, con amigos o en familia?\")\n",
    "style_travel = input(\"¿Cuál es tu estilo de viaje? (Aventura, relax, cultural, gastronómico, lujo, mochilero, etc.)\")"
   ]
  },
  {
   "cell_type": "code",
   "execution_count": 14,
   "metadata": {},
   "outputs": [
    {
     "name": "stdin",
     "output_type": "stream",
     "text": [
      "¿Qué nivel de actividad física preferís? (Alta, media, baja) baja\n",
      "¿Qué tipo de actividades te interesan?** (Ej: museos, senderismo, deportes acuáticos, vida nocturna, compras, historia, gastronomía, naturaleza, etc.) senderismo\n"
     ]
    }
   ],
   "source": [
    "physical_activity_level = input(\"¿Qué nivel de actividad física preferís? (Alta, media, baja)\")\n",
    "favourites_activities = input(\"¿Qué tipo de actividades te interesan?** (Ej: museos, senderismo, deportes acuáticos, vida nocturna, compras, historia, gastronomía, naturaleza, etc.)\") "
   ]
  },
  {
   "cell_type": "code",
   "execution_count": 15,
   "metadata": {},
   "outputs": [
    {
     "name": "stdin",
     "output_type": "stream",
     "text": [
      "¿Cuál es tu presupuesto? (económico, medio, alto, lujo) económico\n"
     ]
    }
   ],
   "source": [
    "estimate = input(\"¿Cuál es tu presupuesto? (económico, medio, alto, lujo)\")"
   ]
  },
  {
   "cell_type": "code",
   "execution_count": 16,
   "metadata": {},
   "outputs": [
    {
     "name": "stdin",
     "output_type": "stream",
     "text": [
      "¿Hay algún lugar o atracción específica que quieras visitar? Mar del Plata en Argentina\n"
     ]
    }
   ],
   "source": [
    "interests = input(\"¿Hay algún lugar o atracción específica que quieras visitar?\")"
   ]
  },
  {
   "cell_type": "code",
   "execution_count": 17,
   "metadata": {},
   "outputs": [],
   "source": [
    "class Itinerary:\n",
    "\tdef __init__(self, count_of_people, type_of_group, physical_activity_level, favourites_activities, interests, estimate):\n",
    "\t\tself.count_of_people = count_of_people\n",
    "\t\tself.type_of_group = type_of_group\n",
    "\t\tself.physical_activity_level = physical_activity_level\n",
    "\t\tself.interests = interests \n",
    "\t\tself.estimate = estimate\n",
    "\t\tself.favourites_activities = favourites_activities\n",
    "\t\t\n",
    "\tdef generate_prompt_info(self):\n",
    "\t\treturn f\"Cantidad de personas: {self.count_of_people}. Grupo: {self.type_of_group}. Actividad física: {self.physical_activity_level}. Intereses: {self.interests}. Actividades favoritas: {self.favourites_activities}. Presupuesto alojamiento: {self.estimate}\""
   ]
  },
  {
   "cell_type": "code",
   "execution_count": 18,
   "metadata": {},
   "outputs": [],
   "source": [
    "object_itinerary = Itinerary(count_people, type_of_group, physical_activity_level, favourites_activities, interests, estimate)"
   ]
  },
  {
   "cell_type": "code",
   "execution_count": 19,
   "metadata": {},
   "outputs": [
    {
     "name": "stdout",
     "output_type": "stream",
     "text": [
      "Aquí tienes un ejemplo de cómo podría estructurarse la información en formato JSON:\n",
      "\n",
      "```json\n",
      "{\n",
      "  \"perfil\": {\n",
      "    \"cantidadPersonas\": 4,\n",
      "    \"tipoGrupo\": \"familia\",\n",
      "    \"actividadFisica\": \"baja\",\n",
      "    \"intereses\": [\"Mar del Plata\", \"senderismo\"],\n",
      "    \"presupuestoAlojamiento\": \"económico\"\n",
      "  },\n",
      "  \"destino\": \"Mar del Plata, Argentina\",\n",
      "  \"duracion\": 4, //días\n",
      "  \"presupuestoTotal\": null, //A definir con el itinerario\n",
      "  \"itinerario\": [\n",
      "    {\n",
      "      \"dia\": 1,\n",
      "      \"actividades\": [\n",
      "        {\"nombre\": \"Llegada a Mar del Plata\", \"descripcion\": \"Traslado al alojamiento.  Alojamiento en Hostal económico en zona céntrica.\", \"horario\": \"Tarde\"},\n",
      "        {\"nombre\": \"Paseo por la playa Bristol\", \"descripcion\": \"Paseo relajante por la playa, disfrutando del mar y el ambiente.\", \"horario\": \"Tarde/Noche\"}\n",
      "      ]\n",
      "    },\n",
      "    {\n",
      "      \"dia\": 2,\n",
      "      \"actividades\": [\n",
      "        {\"nombre\": \"Visita al puerto\", \"descripcion\": \"Recorrido por el puerto, observación de la actividad pesquera y posibilidad de almorzar mariscos frescos.\", \"horario\": \"Mañana\"},\n",
      "        {\"nombre\": \"Paseo por la rambla\", \"descripcion\": \"Recorrido por la rambla, disfrutando de las vistas al mar.\", \"horario\": \"Tarde\"}\n",
      "      ]\n",
      "    },\n",
      "    {\n",
      "      \"dia\": 3,\n",
      "      \"actividades\": [\n",
      "        {\"nombre\": \"Senderismo en el Cerro La Loma\", \"descripcion\": \"Caminata suave por el Cerro La Loma, con vistas panorámicas de la ciudad y el mar.  Considerar dificultad baja para senderismo.\", \"horario\": \"Mañana\"},\n",
      "        {\"nombre\": \"Visita al Museo MAR\", \"descripcion\": \"Visita al Museo de Arte Contemporáneo de Mar del Plata.\", \"horario\": \"Tarde\"}\n",
      "      ]\n",
      "    },\n",
      "    {\n",
      "      \"dia\": 4,\n",
      "      \"actividades\": [\n",
      "        {\"nombre\": \"Playa Varese\", \"descripcion\": \"Disfrutar de la playa Varese y sus opciones de gastronomía.\", \"horario\": \"Mañana\"},\n",
      "        {\"nombre\": \"Regreso\", \"descripcion\": \"Traslado al aeropuerto/terminal de buses para el regreso.\", \"horario\": \"Tarde\"}\n",
      "      ]\n",
      "    }\n",
      "  ]\n",
      "}\n",
      "```\n",
      "\n",
      "Este JSON proporciona una estructura clara y completa para el itinerario.  Recuerda que el presupuesto total (`presupuestoTotal`) necesita ser calculado una vez que se hayan definido los costos específicos de alojamiento, transporte y actividades.  Además, se podrían agregar más detalles a cada actividad, como horarios específicos, costos estimados y recomendaciones adicionales.  Este es un ejemplo, y se puede adaptar y ampliar según las necesidades.\n",
      "\n"
     ]
    }
   ],
   "source": [
    "object_itinerary_json = ask_travel_plans(object_itinerary)"
   ]
  },
  {
   "cell_type": "code",
   "execution_count": 33,
   "metadata": {},
   "outputs": [
    {
     "name": "stdout",
     "output_type": "stream",
     "text": [
      "Aquí tienes un ejemplo de cómo se vería el JSON con la información proporcionada:\n",
      "\n",
      "```json\n",
      "{\n",
      "  \"perfil\": {\n",
      "    \"cantidadPersonas\": 4,\n",
      "    \"tipoGrupo\": \"familia\",\n",
      "    \"actividadFisica\": \"baja\",\n",
      "    \"intereses\": [\"Mar del Plata\", \"senderismo\"],\n",
      "    \"presupuestoAlojamiento\": \"económico\"\n",
      "  },\n",
      "  \"destino\": \"Mar del Plata, Argentina\",\n",
      "  \"duracion\": 4, //días  (Asumiendo 4 días, puedes modificarlo según sea necesario)\n",
      "  \"presupuesto\": {\n",
      "    \"alojamiento\": \"económico\",\n",
      "    \"actividades\": \"medio\" // Ajustar según se detalle el itinerario\n",
      "  },\n",
      "  \"itinerario\": [\n",
      "    {\n",
      "      \"dia\": 1,\n",
      "      \"titulo\": \"Llegada a Mar del Plata y Paseo por la Playa\",\n",
      "      \"actividades\": [\n",
      "        \"Llegada al alojamiento (recomendación de hoteles económicos)\",\n",
      "        \"Paseo por la playa Bristol, disfrutando del mar y la costa.\",\n",
      "        \"Cena en un restaurante económico con comida regional.\"\n",
      "      ]\n",
      "    },\n",
      "    {\n",
      "      \"dia\": 2,\n",
      "      \"titulo\": \"Senderismo en Cerro La Loma y Visita al Puerto\",\n",
      "      \"actividades\": [\n",
      "        \"Senderismo suave por Cerro La Loma (considerando la baja actividad física, se puede optar por una ruta corta y menos exigente).\",\n",
      "        \"Visita al Puerto de Mar del Plata, observación de la actividad pesquera.\",\n",
      "        \"Almuerzo en un restaurante económico cerca del puerto.\"\n",
      "      ]\n",
      "    },\n",
      "    {\n",
      "      \"dia\": 3,\n",
      "      \"titulo\": \"Cultura y Recreación\",\n",
      "      \"actividades\": [\n",
      "        \"Visita al Museo de Arte Contemporáneo de Mar del Plata.\",\n",
      "        \"Paseo por el centro de la ciudad, compras de artesanías.\",\n",
      "        \"Disfrutar de la tarde en la playa o un parque.\",\n",
      "        \"Cena en un restaurante con un precio medio\"\n",
      "      ]\n",
      "    },\n",
      "    {\n",
      "      \"dia\": 4,\n",
      "      \"titulo\": \"Salida\",\n",
      "      \"actividades\": [\n",
      "        \"Desayuno\",\n",
      "        \"Salida de Mar del Plata.\"\n",
      "      ]\n",
      "    }\n",
      "  ]\n",
      "}\n",
      "```\n",
      "\n",
      "**Nota:** Este JSON es un ejemplo. La duración del viaje (4 días en este caso)  y el presupuesto para actividades deben ser ajustados según las preferencias del usuario una vez que se obtenga más información.  También se deberían agregar recomendaciones específicas de hoteles económicos y restaurantes en Mar del Plata.  El itinerario de senderismo en Cerro La Loma necesita ser revisado con rutas específicas de baja dificultad.  Para un itinerario completo, se necesita una estimación del presupuesto total para actividades y transporte.\n",
      "\n"
     ]
    },
    {
     "data": {
      "text/plain": [
       "'Aquí tienes un ejemplo de cómo se vería el JSON con la información proporcionada:\\n\\n```json\\n{\\n  \"perfil\": {\\n    \"cantidadPersonas\": 4,\\n    \"tipoGrupo\": \"familia\",\\n    \"actividadFisica\": \"baja\",\\n    \"intereses\": [\"Mar del Plata\", \"senderismo\"],\\n    \"presupuestoAlojamiento\": \"económico\"\\n  },\\n  \"destino\": \"Mar del Plata, Argentina\",\\n  \"duracion\": 4, //días  (Asumiendo 4 días, puedes modificarlo según sea necesario)\\n  \"presupuesto\": {\\n    \"alojamiento\": \"económico\",\\n    \"actividades\": \"medio\" // Ajustar según se detalle el itinerario\\n  },\\n  \"itinerario\": [\\n    {\\n      \"dia\": 1,\\n      \"titulo\": \"Llegada a Mar del Plata y Paseo por la Playa\",\\n      \"actividades\": [\\n        \"Llegada al alojamiento (recomendación de hoteles económicos)\",\\n        \"Paseo por la playa Bristol, disfrutando del mar y la costa.\",\\n        \"Cena en un restaurante económico con comida regional.\"\\n      ]\\n    },\\n    {\\n      \"dia\": 2,\\n      \"titulo\": \"Senderismo en Cerro La Loma y Visita al Puerto\",\\n      \"actividades\": [\\n        \"Senderismo suave por Cerro La Loma (considerando la baja actividad física, se puede optar por una ruta corta y menos exigente).\",\\n        \"Visita al Puerto de Mar del Plata, observación de la actividad pesquera.\",\\n        \"Almuerzo en un restaurante económico cerca del puerto.\"\\n      ]\\n    },\\n    {\\n      \"dia\": 3,\\n      \"titulo\": \"Cultura y Recreación\",\\n      \"actividades\": [\\n        \"Visita al Museo de Arte Contemporáneo de Mar del Plata.\",\\n        \"Paseo por el centro de la ciudad, compras de artesanías.\",\\n        \"Disfrutar de la tarde en la playa o un parque.\",\\n        \"Cena en un restaurante con un precio medio\"\\n      ]\\n    },\\n    {\\n      \"dia\": 4,\\n      \"titulo\": \"Salida\",\\n      \"actividades\": [\\n        \"Desayuno\",\\n        \"Salida de Mar del Plata.\"\\n      ]\\n    }\\n  ]\\n}\\n```\\n\\n**Nota:** Este JSON es un ejemplo. La duración del viaje (4 días en este caso)  y el presupuesto para actividades deben ser ajustados según las preferencias del usuario una vez que se obtenga más información.  También se deberían agregar recomendaciones específicas de hoteles económicos y restaurantes en Mar del Plata.  El itinerario de senderismo en Cerro La Loma necesita ser revisado con rutas específicas de baja dificultad.  Para un itinerario completo, se necesita una estimación del presupuesto total para actividades y transporte.\\n'"
      ]
     },
     "execution_count": 33,
     "metadata": {},
     "output_type": "execute_result"
    }
   ],
   "source": [
    "ask_travel_plans(object_itinerary)"
   ]
  },
  {
   "cell_type": "code",
   "execution_count": 20,
   "metadata": {},
   "outputs": [
    {
     "name": "stdout",
     "output_type": "stream",
     "text": [
      "Name: google-generativeai\n",
      "Version: 0.8.5\n",
      "Summary: Google Generative AI High level API client library and tools.\n",
      "Home-page: https://github.com/google/generative-ai-python\n",
      "Author: Google LLC\n",
      "Author-email: googleapis-packages@google.com\n",
      "License: Apache 2.0\n",
      "Location: C:\\Users\\Jonathan\\miniconda3\\Lib\\site-packages\n",
      "Requires: google-ai-generativelanguage, google-api-core, google-api-python-client, google-auth, protobuf, pydantic, tqdm, typing-extensions\n",
      "Required-by: \n",
      "Note: you may need to restart the kernel to use updated packages.\n"
     ]
    }
   ],
   "source": [
    "pip show google-generativeai"
   ]
  },
  {
   "cell_type": "code",
   "execution_count": 21,
   "metadata": {},
   "outputs": [
    {
     "name": "stdout",
     "output_type": "stream",
     "text": [
      "Requirement already satisfied: google-cloud-aiplatform in c:\\users\\jonathan\\miniconda3\\lib\\site-packages (1.100.0)\n",
      "Requirement already satisfied: google-api-core!=2.0.*,!=2.1.*,!=2.2.*,!=2.3.*,!=2.4.*,!=2.5.*,!=2.6.*,!=2.7.*,<3.0.0,>=1.34.1 in c:\\users\\jonathan\\miniconda3\\lib\\site-packages (from google-api-core[grpc]!=2.0.*,!=2.1.*,!=2.2.*,!=2.3.*,!=2.4.*,!=2.5.*,!=2.6.*,!=2.7.*,<3.0.0,>=1.34.1->google-cloud-aiplatform) (2.25.0)\n",
      "Requirement already satisfied: google-auth<3.0.0,>=2.14.1 in c:\\users\\jonathan\\miniconda3\\lib\\site-packages (from google-cloud-aiplatform) (2.40.3)\n",
      "Requirement already satisfied: proto-plus<2.0.0,>=1.22.3 in c:\\users\\jonathan\\miniconda3\\lib\\site-packages (from google-cloud-aiplatform) (1.26.1)\n",
      "Requirement already satisfied: protobuf!=4.21.0,!=4.21.1,!=4.21.2,!=4.21.3,!=4.21.4,!=4.21.5,<7.0.0,>=3.20.2 in c:\\users\\jonathan\\miniconda3\\lib\\site-packages (from google-cloud-aiplatform) (5.29.5)\n",
      "Requirement already satisfied: packaging>=14.3 in c:\\users\\jonathan\\miniconda3\\lib\\site-packages (from google-cloud-aiplatform) (24.2)\n",
      "Requirement already satisfied: google-cloud-storage<3.0.0,>=1.32.0 in c:\\users\\jonathan\\miniconda3\\lib\\site-packages (from google-cloud-aiplatform) (2.19.0)\n",
      "Requirement already satisfied: google-cloud-bigquery!=3.20.0,<4.0.0,>=1.15.0 in c:\\users\\jonathan\\miniconda3\\lib\\site-packages (from google-cloud-aiplatform) (3.34.0)\n",
      "Requirement already satisfied: google-cloud-resource-manager<3.0.0,>=1.3.3 in c:\\users\\jonathan\\miniconda3\\lib\\site-packages (from google-cloud-aiplatform) (1.14.2)\n",
      "Requirement already satisfied: shapely<3.0.0 in c:\\users\\jonathan\\miniconda3\\lib\\site-packages (from google-cloud-aiplatform) (2.1.1)\n",
      "Requirement already satisfied: google-genai<2.0.0,>=1.0.0 in c:\\users\\jonathan\\miniconda3\\lib\\site-packages (from google-cloud-aiplatform) (1.21.1)\n",
      "Requirement already satisfied: pydantic<3 in c:\\users\\jonathan\\miniconda3\\lib\\site-packages (from google-cloud-aiplatform) (2.10.3)\n",
      "Requirement already satisfied: typing_extensions in c:\\users\\jonathan\\miniconda3\\lib\\site-packages (from google-cloud-aiplatform) (4.12.2)\n",
      "Requirement already satisfied: docstring_parser<1 in c:\\users\\jonathan\\miniconda3\\lib\\site-packages (from google-cloud-aiplatform) (0.16)\n",
      "Requirement already satisfied: googleapis-common-protos<2.0.0,>=1.56.2 in c:\\users\\jonathan\\miniconda3\\lib\\site-packages (from google-api-core!=2.0.*,!=2.1.*,!=2.2.*,!=2.3.*,!=2.4.*,!=2.5.*,!=2.6.*,!=2.7.*,<3.0.0,>=1.34.1->google-api-core[grpc]!=2.0.*,!=2.1.*,!=2.2.*,!=2.3.*,!=2.4.*,!=2.5.*,!=2.6.*,!=2.7.*,<3.0.0,>=1.34.1->google-cloud-aiplatform) (1.70.0)\n",
      "Requirement already satisfied: requests<3.0.0,>=2.18.0 in c:\\users\\jonathan\\miniconda3\\lib\\site-packages (from google-api-core!=2.0.*,!=2.1.*,!=2.2.*,!=2.3.*,!=2.4.*,!=2.5.*,!=2.6.*,!=2.7.*,<3.0.0,>=1.34.1->google-api-core[grpc]!=2.0.*,!=2.1.*,!=2.2.*,!=2.3.*,!=2.4.*,!=2.5.*,!=2.6.*,!=2.7.*,<3.0.0,>=1.34.1->google-cloud-aiplatform) (2.32.3)\n",
      "Requirement already satisfied: grpcio<2.0.0,>=1.33.2 in c:\\users\\jonathan\\miniconda3\\lib\\site-packages (from google-api-core[grpc]!=2.0.*,!=2.1.*,!=2.2.*,!=2.3.*,!=2.4.*,!=2.5.*,!=2.6.*,!=2.7.*,<3.0.0,>=1.34.1->google-cloud-aiplatform) (1.73.0)\n",
      "Requirement already satisfied: grpcio-status<2.0.0,>=1.33.2 in c:\\users\\jonathan\\miniconda3\\lib\\site-packages (from google-api-core[grpc]!=2.0.*,!=2.1.*,!=2.2.*,!=2.3.*,!=2.4.*,!=2.5.*,!=2.6.*,!=2.7.*,<3.0.0,>=1.34.1->google-cloud-aiplatform) (1.71.0)\n",
      "Requirement already satisfied: cachetools<6.0,>=2.0.0 in c:\\users\\jonathan\\miniconda3\\lib\\site-packages (from google-auth<3.0.0,>=2.14.1->google-cloud-aiplatform) (5.5.2)\n",
      "Requirement already satisfied: pyasn1-modules>=0.2.1 in c:\\users\\jonathan\\miniconda3\\lib\\site-packages (from google-auth<3.0.0,>=2.14.1->google-cloud-aiplatform) (0.4.2)\n",
      "Requirement already satisfied: rsa<5,>=3.1.4 in c:\\users\\jonathan\\miniconda3\\lib\\site-packages (from google-auth<3.0.0,>=2.14.1->google-cloud-aiplatform) (4.9.1)\n",
      "Requirement already satisfied: google-cloud-core<3.0.0,>=2.4.1 in c:\\users\\jonathan\\miniconda3\\lib\\site-packages (from google-cloud-bigquery!=3.20.0,<4.0.0,>=1.15.0->google-cloud-aiplatform) (2.4.3)\n",
      "Requirement already satisfied: google-resumable-media<3.0.0,>=2.0.0 in c:\\users\\jonathan\\miniconda3\\lib\\site-packages (from google-cloud-bigquery!=3.20.0,<4.0.0,>=1.15.0->google-cloud-aiplatform) (2.7.2)\n",
      "Requirement already satisfied: python-dateutil<3.0.0,>=2.8.2 in c:\\users\\jonathan\\miniconda3\\lib\\site-packages (from google-cloud-bigquery!=3.20.0,<4.0.0,>=1.15.0->google-cloud-aiplatform) (2.9.0.post0)\n",
      "Requirement already satisfied: grpc-google-iam-v1<1.0.0,>=0.14.0 in c:\\users\\jonathan\\miniconda3\\lib\\site-packages (from google-cloud-resource-manager<3.0.0,>=1.3.3->google-cloud-aiplatform) (0.14.2)\n",
      "Requirement already satisfied: google-crc32c<2.0dev,>=1.0 in c:\\users\\jonathan\\miniconda3\\lib\\site-packages (from google-cloud-storage<3.0.0,>=1.32.0->google-cloud-aiplatform) (1.7.1)\n",
      "Requirement already satisfied: anyio<5.0.0,>=4.8.0 in c:\\users\\jonathan\\miniconda3\\lib\\site-packages (from google-genai<2.0.0,>=1.0.0->google-cloud-aiplatform) (4.9.0)\n",
      "Requirement already satisfied: httpx<1.0.0,>=0.28.1 in c:\\users\\jonathan\\miniconda3\\lib\\site-packages (from google-genai<2.0.0,>=1.0.0->google-cloud-aiplatform) (0.28.1)\n",
      "Requirement already satisfied: tenacity<9.0.0,>=8.2.3 in c:\\users\\jonathan\\miniconda3\\lib\\site-packages (from google-genai<2.0.0,>=1.0.0->google-cloud-aiplatform) (8.5.0)\n",
      "Requirement already satisfied: websockets<15.1.0,>=13.0.0 in c:\\users\\jonathan\\miniconda3\\lib\\site-packages (from google-genai<2.0.0,>=1.0.0->google-cloud-aiplatform) (15.0.1)\n",
      "Requirement already satisfied: annotated-types>=0.6.0 in c:\\users\\jonathan\\miniconda3\\lib\\site-packages (from pydantic<3->google-cloud-aiplatform) (0.6.0)\n",
      "Requirement already satisfied: pydantic-core==2.27.1 in c:\\users\\jonathan\\miniconda3\\lib\\site-packages (from pydantic<3->google-cloud-aiplatform) (2.27.1)\n",
      "Requirement already satisfied: numpy>=1.21 in c:\\users\\jonathan\\miniconda3\\lib\\site-packages (from shapely<3.0.0->google-cloud-aiplatform) (2.3.1)\n",
      "Requirement already satisfied: idna>=2.8 in c:\\users\\jonathan\\miniconda3\\lib\\site-packages (from anyio<5.0.0,>=4.8.0->google-genai<2.0.0,>=1.0.0->google-cloud-aiplatform) (3.7)\n",
      "Requirement already satisfied: sniffio>=1.1 in c:\\users\\jonathan\\miniconda3\\lib\\site-packages (from anyio<5.0.0,>=4.8.0->google-genai<2.0.0,>=1.0.0->google-cloud-aiplatform) (1.3.1)\n",
      "Requirement already satisfied: certifi in c:\\users\\jonathan\\miniconda3\\lib\\site-packages (from httpx<1.0.0,>=0.28.1->google-genai<2.0.0,>=1.0.0->google-cloud-aiplatform) (2025.4.26)\n",
      "Requirement already satisfied: httpcore==1.* in c:\\users\\jonathan\\miniconda3\\lib\\site-packages (from httpx<1.0.0,>=0.28.1->google-genai<2.0.0,>=1.0.0->google-cloud-aiplatform) (1.0.9)\n",
      "Requirement already satisfied: h11>=0.16 in c:\\users\\jonathan\\miniconda3\\lib\\site-packages (from httpcore==1.*->httpx<1.0.0,>=0.28.1->google-genai<2.0.0,>=1.0.0->google-cloud-aiplatform) (0.16.0)\n",
      "Requirement already satisfied: pyasn1<0.7.0,>=0.6.1 in c:\\users\\jonathan\\miniconda3\\lib\\site-packages (from pyasn1-modules>=0.2.1->google-auth<3.0.0,>=2.14.1->google-cloud-aiplatform) (0.6.1)\n",
      "Requirement already satisfied: six>=1.5 in c:\\users\\jonathan\\miniconda3\\lib\\site-packages (from python-dateutil<3.0.0,>=2.8.2->google-cloud-bigquery!=3.20.0,<4.0.0,>=1.15.0->google-cloud-aiplatform) (1.17.0)\n",
      "Requirement already satisfied: charset-normalizer<4,>=2 in c:\\users\\jonathan\\miniconda3\\lib\\site-packages (from requests<3.0.0,>=2.18.0->google-api-core!=2.0.*,!=2.1.*,!=2.2.*,!=2.3.*,!=2.4.*,!=2.5.*,!=2.6.*,!=2.7.*,<3.0.0,>=1.34.1->google-api-core[grpc]!=2.0.*,!=2.1.*,!=2.2.*,!=2.3.*,!=2.4.*,!=2.5.*,!=2.6.*,!=2.7.*,<3.0.0,>=1.34.1->google-cloud-aiplatform) (3.3.2)\n",
      "Requirement already satisfied: urllib3<3,>=1.21.1 in c:\\users\\jonathan\\miniconda3\\lib\\site-packages (from requests<3.0.0,>=2.18.0->google-api-core!=2.0.*,!=2.1.*,!=2.2.*,!=2.3.*,!=2.4.*,!=2.5.*,!=2.6.*,!=2.7.*,<3.0.0,>=1.34.1->google-api-core[grpc]!=2.0.*,!=2.1.*,!=2.2.*,!=2.3.*,!=2.4.*,!=2.5.*,!=2.6.*,!=2.7.*,<3.0.0,>=1.34.1->google-cloud-aiplatform) (2.3.0)\n",
      "Note: you may need to restart the kernel to use updated packages.\n"
     ]
    }
   ],
   "source": [
    "pip install --upgrade google-cloud-aiplatform\n"
   ]
  },
  {
   "cell_type": "code",
   "execution_count": 22,
   "metadata": {},
   "outputs": [],
   "source": [
    "import vertexai\n",
    "from vertexai.preview.vision_models import ImageGenerationModel"
   ]
  },
  {
   "cell_type": "code",
   "execution_count": 23,
   "metadata": {},
   "outputs": [
    {
     "name": "stderr",
     "output_type": "stream",
     "text": [
      "Your browser has been opened to visit:\n",
      "\n",
      "    https://accounts.google.com/o/oauth2/auth?response_type=code&client_id=32555940559.apps.googleusercontent.com&redirect_uri=http%3A%2F%2Flocalhost%3A8085%2F&scope=openid+https%3A%2F%2Fwww.googleapis.com%2Fauth%2Fuserinfo.email+https%3A%2F%2Fwww.googleapis.com%2Fauth%2Fcloud-platform+https%3A%2F%2Fwww.googleapis.com%2Fauth%2Fappengine.admin+https%3A%2F%2Fwww.googleapis.com%2Fauth%2Fsqlservice.login+https%3A%2F%2Fwww.googleapis.com%2Fauth%2Fcompute+https%3A%2F%2Fwww.googleapis.com%2Fauth%2Faccounts.reauth&state=K2nhXS9EsV2wSmmVwosCTUZyZjmCAS&access_type=offline&code_challenge=79PiDYY7DtGltYFjyKgQ3DAVz7Rxmhm5Z9YnGFqkYpo&code_challenge_method=S256\n",
      "\n",
      "\n",
      "You are now logged in as [jonathan.mendoza.pin@gmail.com].\n",
      "Your current project is [unique-sentinel-463721-p0].  You can change this setting by running:\n",
      "  $ gcloud config set project PROJECT_ID\n"
     ]
    }
   ],
   "source": [
    "!gcloud auth login"
   ]
  },
  {
   "cell_type": "code",
   "execution_count": 24,
   "metadata": {},
   "outputs": [],
   "source": [
    "PROJECT_ID = os.getenv('PROJECT_ID_GEMINI')\n",
    "LOCATION = os.getenv('LOCATION')\n",
    "\n",
    "vertexai.init(project=PROJECT_ID, location=LOCATION)"
   ]
  },
  {
   "cell_type": "code",
   "execution_count": 24,
   "metadata": {},
   "outputs": [
    {
     "name": "stderr",
     "output_type": "stream",
     "text": [
      "Your browser has been opened to visit:\n",
      "\n",
      "    https://accounts.google.com/o/oauth2/auth?response_type=code&client_id=764086051850-6qr4p6gpi6hn506pt8ejuq83di341hur.apps.googleusercontent.com&redirect_uri=http%3A%2F%2Flocalhost%3A8085%2F&scope=openid+https%3A%2F%2Fwww.googleapis.com%2Fauth%2Fuserinfo.email+https%3A%2F%2Fwww.googleapis.com%2Fauth%2Fcloud-platform+https%3A%2F%2Fwww.googleapis.com%2Fauth%2Fsqlservice.login&state=M9aE294SBpQdJXXwoMCBczOFvAkowL&access_type=offline&code_challenge=XN0nizia4umJNuQyAddqg_9Wo6AM-W4l0uH2Sc6GUvE&code_challenge_method=S256\n",
      "\n",
      "\n",
      "Credentials saved to file: [C:\\Users\\Jonathan\\AppData\\Roaming\\gcloud\\application_default_credentials.json]\n",
      "\n",
      "These credentials will be used by any library that requests Application Default Credentials (ADC).\n",
      "\n",
      "Quota project \"unique-sentinel-463721-p0\" was added to ADC which can be used by Google client libraries for billing and quota. Note that some services may still bill the project owning the resource.\n"
     ]
    }
   ],
   "source": [
    "!gcloud auth application-default login"
   ]
  },
  {
   "cell_type": "code",
   "execution_count": 25,
   "metadata": {},
   "outputs": [],
   "source": [
    "from PIL import Image as Img"
   ]
  },
  {
   "cell_type": "code",
   "execution_count": 26,
   "metadata": {},
   "outputs": [
    {
     "name": "stdout",
     "output_type": "stream",
     "text": [
      "Requirement already satisfied: pillow in c:\\users\\jonathan\\miniconda3\\lib\\site-packages (11.2.1)\n",
      "Note: you may need to restart the kernel to use updated packages.\n"
     ]
    }
   ],
   "source": [
    "pip install pillow"
   ]
  },
  {
   "cell_type": "code",
   "execution_count": 27,
   "metadata": {},
   "outputs": [],
   "source": [
    "import json"
   ]
  },
  {
   "cell_type": "code",
   "execution_count": 66,
   "metadata": {},
   "outputs": [],
   "source": [
    "def generate_images(object_itinerary_json):\n",
    "\timport requests\n",
    "\timport uuid\n",
    "\t\n",
    "\tprint(\"Cargando el modelo de generación de imágenes de Vertex AI...\")\n",
    "\t\n",
    "\tjdict = json.dumps(object_itinerary_json) \n",
    "\tobject_itinerary_fn = json.loads(jdict)\n",
    "\n",
    "\tid_itinerary = str(uuid.uuid4())\n",
    "\t\n",
    "\ti = 1\n",
    "\ttry:\n",
    "\t\tfor item in object_itinerary_fn['itinerario']:\n",
    "\t\t\tgeneration_model = ImageGenerationModel.from_pretrained(\"imagegeneration@006\")\n",
    "\t\t\tfor item_actividad in item['actividades']:\n",
    "\t\t\t\tprompt = f\"{item_actividad} en {object_itinerary_fn['destino']} para {object_itinerary_fn['perfil']['cantidadPersonas']} ({object_itinerary_fn['perfil']['tipoGrupo']})\"\n",
    "\t\t\t\tprint(f\"Generando imagen para el prompt: '{prompt}'\")\n",
    "\t\t\t\tresponse = generation_model.generate_images(prompt=prompt)\n",
    "\n",
    "\t\t\t\tprint(\"Respuesta completa de la API:\")\n",
    "\t\t\t\tprint(response)\n",
    "\n",
    "\t\t\t\tif hasattr(response, 'images') and response.images:\n",
    "\t\t\t\t\tprint(f\"Se generaron {len(response.images)} imágenes.\")\n",
    "\t\t\t\t\t\n",
    "\t\t\t\t\timage_file_name = f\"object_itinerary_{id_itinerary}_{i}.png\"\n",
    "\t\t\t\t\tresponse.images[0].save(location=image_file_name)\n",
    "\t\t\t\t\t\n",
    "\t\t\t\t\tprint(f\"¡Listo! Imagen guardada como '{image_file_name}'\")\n",
    "\t\t\t\t\t\n",
    "\t\t\t\t\ti += 1\n",
    "\t\t\t\telse:\n",
    "\t\t\t\t\tprint(\"No se generó ninguna imagen. Revisa la respuesta de la API impresa arriba para ver los posibles bloqueos de seguridad u otros errores.\")\n",
    "\t\t\t\t\t# También puedes revisar los safety_ratings si están disponibles\n",
    "\t\t\t\t\tif hasattr(response, 'candidates') and response.candidates:\n",
    "\t\t\t\t\t\tprint(\"Safety Ratings:\", response.candidates[0].safety_ratings)\n",
    "\t\t\t\t\t\t\n",
    "\t\tprint(f\"¡Listo! Conjunto de imagenes realizadas de forma correcta\")\n",
    "\texcept Exception as e:\n",
    "\t\ttraceback.print_exc()\n",
    "\t\tprint(\"Ocurrió un error al generar o descargar la imagen: \")\n",
    "\t\tprint(e)"
   ]
  },
  {
   "cell_type": "code",
   "execution_count": 67,
   "metadata": {},
   "outputs": [
    {
     "name": "stdout",
     "output_type": "stream",
     "text": [
      "Cargando el modelo de generación de imágenes de Vertex AI...\n",
      "Generando imagen para el prompt: 'Llegada al alojamiento (recomendación de hoteles económicos) en Mar del Plata, Argentina para 4 (familia)'\n",
      "Respuesta completa de la API:\n",
      "ImageGenerationResponse(images=[<vertexai.preview.vision_models.GeneratedImage object at 0x00000243001E1590>])\n",
      "Se generaron 1 imágenes.\n",
      "¡Listo! Imagen guardada como 'object_itinerary_179b0960-e3fe-4229-87b5-3518533dacda_1.png'\n",
      "Generando imagen para el prompt: 'Paseo por la playa Bristol, disfrutando del mar y la costa. en Mar del Plata, Argentina para 4 (familia)'\n",
      "Respuesta completa de la API:\n",
      "ImageGenerationResponse(images=[])\n",
      "No se generó ninguna imagen. Revisa la respuesta de la API impresa arriba para ver los posibles bloqueos de seguridad u otros errores.\n",
      "Generando imagen para el prompt: 'Cena en un restaurante económico con comida regional. en Mar del Plata, Argentina para 4 (familia)'\n",
      "Respuesta completa de la API:\n",
      "ImageGenerationResponse(images=[<vertexai.preview.vision_models.GeneratedImage object at 0x0000024300206210>])\n",
      "Se generaron 1 imágenes.\n",
      "¡Listo! Imagen guardada como 'object_itinerary_179b0960-e3fe-4229-87b5-3518533dacda_2.png'\n",
      "Generando imagen para el prompt: 'Senderismo suave por Cerro La Loma (considerando la baja actividad física, se puede optar por una ruta corta y menos exigente). en Mar del Plata, Argentina para 4 (familia)'\n",
      "Respuesta completa de la API:\n",
      "ImageGenerationResponse(images=[<vertexai.preview.vision_models.GeneratedImage object at 0x000002430022EBD0>])\n",
      "Se generaron 1 imágenes.\n",
      "¡Listo! Imagen guardada como 'object_itinerary_179b0960-e3fe-4229-87b5-3518533dacda_3.png'\n",
      "Generando imagen para el prompt: 'Visita al Puerto de Mar del Plata, observación de la actividad pesquera. en Mar del Plata, Argentina para 4 (familia)'\n",
      "Respuesta completa de la API:\n",
      "ImageGenerationResponse(images=[])\n",
      "No se generó ninguna imagen. Revisa la respuesta de la API impresa arriba para ver los posibles bloqueos de seguridad u otros errores.\n",
      "Generando imagen para el prompt: 'Almuerzo en un restaurante económico cerca del puerto. en Mar del Plata, Argentina para 4 (familia)'\n",
      "Respuesta completa de la API:\n",
      "ImageGenerationResponse(images=[<vertexai.preview.vision_models.GeneratedImage object at 0x00000243001F7750>])\n",
      "Se generaron 1 imágenes.\n",
      "¡Listo! Imagen guardada como 'object_itinerary_179b0960-e3fe-4229-87b5-3518533dacda_4.png'\n",
      "Generando imagen para el prompt: 'Visita al Museo de Arte Contemporáneo de Mar del Plata. en Mar del Plata, Argentina para 4 (familia)'\n",
      "Respuesta completa de la API:\n",
      "ImageGenerationResponse(images=[<vertexai.preview.vision_models.GeneratedImage object at 0x000002430027A430>])\n",
      "Se generaron 1 imágenes.\n",
      "¡Listo! Imagen guardada como 'object_itinerary_179b0960-e3fe-4229-87b5-3518533dacda_5.png'\n",
      "Generando imagen para el prompt: 'Paseo por el centro de la ciudad, compras de artesanías. en Mar del Plata, Argentina para 4 (familia)'\n",
      "Respuesta completa de la API:\n",
      "ImageGenerationResponse(images=[])\n",
      "No se generó ninguna imagen. Revisa la respuesta de la API impresa arriba para ver los posibles bloqueos de seguridad u otros errores.\n",
      "Generando imagen para el prompt: 'Disfrutar de la tarde en la playa o un parque. en Mar del Plata, Argentina para 4 (familia)'\n",
      "Respuesta completa de la API:\n",
      "ImageGenerationResponse(images=[])\n",
      "No se generó ninguna imagen. Revisa la respuesta de la API impresa arriba para ver los posibles bloqueos de seguridad u otros errores.\n",
      "Generando imagen para el prompt: 'Cena en un restaurante con un precio medio en Mar del Plata, Argentina para 4 (familia)'\n",
      "Respuesta completa de la API:\n",
      "ImageGenerationResponse(images=[<vertexai.preview.vision_models.GeneratedImage object at 0x000002430027A430>])\n",
      "Se generaron 1 imágenes.\n",
      "¡Listo! Imagen guardada como 'object_itinerary_179b0960-e3fe-4229-87b5-3518533dacda_6.png'\n",
      "Generando imagen para el prompt: 'Desayuno en Mar del Plata, Argentina para 4 (familia)'\n",
      "Respuesta completa de la API:\n",
      "ImageGenerationResponse(images=[<vertexai.preview.vision_models.GeneratedImage object at 0x0000024300279CC0>])\n",
      "Se generaron 1 imágenes.\n",
      "¡Listo! Imagen guardada como 'object_itinerary_179b0960-e3fe-4229-87b5-3518533dacda_7.png'\n",
      "Generando imagen para el prompt: 'Salida de Mar del Plata. en Mar del Plata, Argentina para 4 (familia)'\n",
      "Respuesta completa de la API:\n",
      "ImageGenerationResponse(images=[])\n",
      "No se generó ninguna imagen. Revisa la respuesta de la API impresa arriba para ver los posibles bloqueos de seguridad u otros errores.\n",
      "¡Listo! Conjunto de imagenes realizadas de forma correcta\n"
     ]
    }
   ],
   "source": [
    "generate_images({\n",
    "  \"perfil\": {\n",
    "    \"cantidadPersonas\": 4,\n",
    "    \"tipoGrupo\": \"familia\",\n",
    "    \"actividadFisica\": \"baja\",\n",
    "    \"intereses\": [\"Mar del Plata\", \"senderismo\"],\n",
    "    \"presupuestoAlojamiento\": \"económico\"\n",
    "  },\n",
    "  \"destino\": \"Mar del Plata, Argentina\",\n",
    "  \"duracion\": 4,\n",
    "  \"presupuesto\": {\n",
    "    \"alojamiento\": \"económico\",\n",
    "    \"actividades\": \"medio\"\n",
    "  },\n",
    "  \"itinerario\": [\n",
    "    {\n",
    "      \"dia\": 1,\n",
    "      \"titulo\": \"Llegada a Mar del Plata y Paseo por la Playa\",\n",
    "      \"actividades\": [\n",
    "        \"Llegada al alojamiento (recomendación de hoteles económicos)\",\n",
    "        \"Paseo por la playa Bristol, disfrutando del mar y la costa.\",\n",
    "        \"Cena en un restaurante económico con comida regional.\"\n",
    "      ]\n",
    "    },\n",
    "    {\n",
    "      \"dia\": 2,\n",
    "      \"titulo\": \"Senderismo en Cerro La Loma y Visita al Puerto\",\n",
    "      \"actividades\": [\n",
    "        \"Senderismo suave por Cerro La Loma (considerando la baja actividad física, se puede optar por una ruta corta y menos exigente).\",\n",
    "        \"Visita al Puerto de Mar del Plata, observación de la actividad pesquera.\",\n",
    "        \"Almuerzo en un restaurante económico cerca del puerto.\"\n",
    "      ]\n",
    "    },\n",
    "    {\n",
    "      \"dia\": 3,\n",
    "      \"titulo\": \"Cultura y Recreación\",\n",
    "      \"actividades\": [\n",
    "        \"Visita al Museo de Arte Contemporáneo de Mar del Plata.\",\n",
    "        \"Paseo por el centro de la ciudad, compras de artesanías.\",\n",
    "        \"Disfrutar de la tarde en la playa o un parque.\",\n",
    "        \"Cena en un restaurante con un precio medio\"\n",
    "      ]\n",
    "    },\n",
    "    {\n",
    "      \"dia\": 4,\n",
    "      \"titulo\": \"Salida\",\n",
    "      \"actividades\": [\n",
    "        \"Desayuno\",\n",
    "        \"Salida de Mar del Plata.\"\n",
    "      ]\n",
    "    }\n",
    "  ]\n",
    "})"
   ]
  },
  {
   "cell_type": "code",
   "execution_count": 32,
   "metadata": {},
   "outputs": [
    {
     "data": {
      "text/plain": [
       "'Aquí tienes un ejemplo de cómo podría estructurarse la información en formato JSON:\\n\\n```json\\n{\\n  \"perfil\": {\\n    \"cantidadPersonas\": 4,\\n    \"tipoGrupo\": \"familia\",\\n    \"actividadFisica\": \"baja\",\\n    \"intereses\": [\"Mar del Plata\", \"senderismo\"],\\n    \"presupuestoAlojamiento\": \"económico\"\\n  },\\n  \"destino\": \"Mar del Plata, Argentina\",\\n  \"duracion\": 4, //días\\n  \"presupuestoTotal\": null, //A definir con el itinerario\\n  \"itinerario\": [\\n    {\\n      \"dia\": 1,\\n      \"actividades\": [\\n        {\"nombre\": \"Llegada a Mar del Plata\", \"descripcion\": \"Traslado al alojamiento.  Alojamiento en Hostal económico en zona céntrica.\", \"horario\": \"Tarde\"},\\n        {\"nombre\": \"Paseo por la playa Bristol\", \"descripcion\": \"Paseo relajante por la playa, disfrutando del mar y el ambiente.\", \"horario\": \"Tarde/Noche\"}\\n      ]\\n    },\\n    {\\n      \"dia\": 2,\\n      \"actividades\": [\\n        {\"nombre\": \"Visita al puerto\", \"descripcion\": \"Recorrido por el puerto, observación de la actividad pesquera y posibilidad de almorzar mariscos frescos.\", \"horario\": \"Mañana\"},\\n        {\"nombre\": \"Paseo por la rambla\", \"descripcion\": \"Recorrido por la rambla, disfrutando de las vistas al mar.\", \"horario\": \"Tarde\"}\\n      ]\\n    },\\n    {\\n      \"dia\": 3,\\n      \"actividades\": [\\n        {\"nombre\": \"Senderismo en el Cerro La Loma\", \"descripcion\": \"Caminata suave por el Cerro La Loma, con vistas panorámicas de la ciudad y el mar.  Considerar dificultad baja para senderismo.\", \"horario\": \"Mañana\"},\\n        {\"nombre\": \"Visita al Museo MAR\", \"descripcion\": \"Visita al Museo de Arte Contemporáneo de Mar del Plata.\", \"horario\": \"Tarde\"}\\n      ]\\n    },\\n    {\\n      \"dia\": 4,\\n      \"actividades\": [\\n        {\"nombre\": \"Playa Varese\", \"descripcion\": \"Disfrutar de la playa Varese y sus opciones de gastronomía.\", \"horario\": \"Mañana\"},\\n        {\"nombre\": \"Regreso\", \"descripcion\": \"Traslado al aeropuerto/terminal de buses para el regreso.\", \"horario\": \"Tarde\"}\\n      ]\\n    }\\n  ]\\n}\\n```\\n\\nEste JSON proporciona una estructura clara y completa para el itinerario.  Recuerda que el presupuesto total (`presupuestoTotal`) necesita ser calculado una vez que se hayan definido los costos específicos de alojamiento, transporte y actividades.  Además, se podrían agregar más detalles a cada actividad, como horarios específicos, costos estimados y recomendaciones adicionales.  Este es un ejemplo, y se puede adaptar y ampliar según las necesidades.\\n'"
      ]
     },
     "execution_count": 32,
     "metadata": {},
     "output_type": "execute_result"
    }
   ],
   "source": [
    "object_itinerary_json"
   ]
  },
  {
   "cell_type": "code",
   "execution_count": 56,
   "metadata": {},
   "outputs": [],
   "source": [
    "import traceback"
   ]
  },
  {
   "cell_type": "code",
   "execution_count": null,
   "metadata": {},
   "outputs": [],
   "source": []
  }
 ],
 "metadata": {
  "kernelspec": {
   "display_name": "Python 3 (ipykernel)",
   "language": "python",
   "name": "python3"
  },
  "language_info": {
   "codemirror_mode": {
    "name": "ipython",
    "version": 3
   },
   "file_extension": ".py",
   "mimetype": "text/x-python",
   "name": "python",
   "nbconvert_exporter": "python",
   "pygments_lexer": "ipython3",
   "version": "3.13.2"
  }
 },
 "nbformat": 4,
 "nbformat_minor": 4
}
